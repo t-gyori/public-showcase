{
 "cells": [
  {
   "cell_type": "markdown",
   "metadata": {},
   "source": [
    "**Problem Description**: Earth takes 365 days to rotate around the Sun, while Mars\n",
    "needs 687 days to do so. Given different starting positions (time-wise) for the\n",
    "planets, how many days will pass until the two planets are at the same position?\n",
    "Write the results into STDOUT with the following format:\n",
    "Case X: days\n",
    "Case Y: days\n",
    "...\n",
    "\n",
    "**Personal Note**: The solution was made with simple loops which may be\n",
    "inefficient with different inputs. Still the code is able to solve the problem\n",
    "with the inputs which were given with the taks description."
   ]
  },
  {
   "cell_type": "code",
   "execution_count": 6,
   "metadata": {},
   "outputs": [
    {
     "name": "stdout",
     "output_type": "stream",
     "text": [
      "Case 1: 0\n",
      "Case 2: 1\n",
      "Case 3: 5\n",
      "Case 4: 239075\n",
      "Case 5: 11679"
     ]
    }
   ],
   "source": [
    "STDIN = \"\"\"0 0\n",
    "364 686\n",
    "360 682\n",
    "0 1\n",
    "1 0\"\"\"\n",
    "\n",
    "import sys\n",
    "\n",
    "# reading input; variable inits\n",
    "data_raw = []\n",
    "data_in = []\n",
    "\n",
    "#for line in sys.stdin:\n",
    "for line in STDIN.split(\"\\n\"):\n",
    "    data_in.append(line.split(\" \"))\n",
    "\n",
    "for i in range(len(data_in)):\n",
    "    for j in range(len(data_in[i])):\n",
    "        data_in[i][j] = int(data_in[i][j])\n",
    "\n",
    "newline = \"\"\n",
    "earth_limit = 365\n",
    "mars_limit = 687\n",
    "\n",
    "# Looping through the imported list. Each list item has a nested\n",
    "# list which has 2 values. These are the init values for earth and mars.\n",
    "# The loop goes on while both variables will have 0 value. The variables\n",
    "# are incrementing on each loop (days) and reset if they reach their\n",
    "# limits (xx_limit).\n",
    "for test in range(len(data_in)):\n",
    "    days = 0\n",
    "    earth = int(data_in[test][0])\n",
    "    mars = int(data_in[test][1])\n",
    "    while earth != mars or earth != 0:\n",
    "        earth += 1\n",
    "        mars += 1\n",
    "        days += 1\n",
    "        if earth == earth_limit:\n",
    "            earth = 0\n",
    "        if mars == mars_limit:\n",
    "            mars = 0\n",
    "    # writing data into STDOUT\n",
    "    sys.stdout.write(newline + f\"Case %s: %s\" % (str(test + 1), str(days)))\n",
    "    newline = \"\\n\"  # setting up new lines for the next rows\n",
    "\n"
   ]
  }
 ],
 "metadata": {
  "kernelspec": {
   "display_name": "Python 3.9.13 ('venv': venv)",
   "language": "python",
   "name": "python3"
  },
  "language_info": {
   "codemirror_mode": {
    "name": "ipython",
    "version": 3
   },
   "file_extension": ".py",
   "mimetype": "text/x-python",
   "name": "python",
   "nbconvert_exporter": "python",
   "pygments_lexer": "ipython3",
   "version": "3.9.13"
  },
  "orig_nbformat": 4,
  "vscode": {
   "interpreter": {
    "hash": "07ad26dea9877d0cec8bf1577e39f904e53b9c41dacd6fefd8fae0b4ebbc45a3"
   }
  }
 },
 "nbformat": 4,
 "nbformat_minor": 2
}
